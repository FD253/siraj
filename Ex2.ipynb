{
 "cells": [
  {
   "cell_type": "code",
   "execution_count": 1,
   "metadata": {
    "collapsed": true
   },
   "outputs": [],
   "source": [
    "import tweepy\n",
    "from textblob import TextBlob\n",
    "from os import getenv\n",
    "import numpy as np\n",
    "import pandas as pd"
   ]
  },
  {
   "cell_type": "code",
   "execution_count": 2,
   "metadata": {
    "collapsed": true
   },
   "outputs": [],
   "source": [
    "CONSUMER_KEY = getenv(\"CONSUMER_KEY\")\n",
    "CONSUMER_SECRET = getenv('CONSUMER_SECRET')\n",
    "\n",
    "ACCESS_TOKEN = getenv('ACCESS_TOKEN')\n",
    "ACCESS_TOKEN_SECRET = getenv('ACCESS_TOKEN_SECRET')\n",
    "\n",
    "auth = tweepy.OAuthHandler(CONSUMER_KEY, CONSUMER_SECRET)\n",
    "auth.set_access_token(ACCESS_TOKEN, ACCESS_TOKEN_SECRET)"
   ]
  },
  {
   "cell_type": "code",
   "execution_count": 3,
   "metadata": {
    "collapsed": true
   },
   "outputs": [],
   "source": [
    "to_search = 'Messi'\n",
    "amount_of_pages = 10 # 15 per page"
   ]
  },
  {
   "cell_type": "code",
   "execution_count": 4,
   "metadata": {
    "collapsed": false
   },
   "outputs": [
    {
     "data": {
      "text/plain": [
       "150"
      ]
     },
     "execution_count": 4,
     "metadata": {},
     "output_type": "execute_result"
    }
   ],
   "source": [
    "api = tweepy.API(auth)\n",
    "public_tweets = []\n",
    "for i in range(amount_of_pages):\n",
    "    public_tweets += [tweet for tweet in api.search(to_search, 'en', i)]\n",
    "len(public_tweets)"
   ]
  },
  {
   "cell_type": "code",
   "execution_count": 5,
   "metadata": {
    "collapsed": false,
    "scrolled": false
   },
   "outputs": [
    {
     "data": {
      "text/html": [
       "<div>\n",
       "<table border=\"1\" class=\"dataframe\">\n",
       "  <thead>\n",
       "    <tr style=\"text-align: right;\">\n",
       "      <th></th>\n",
       "      <th>Tweet</th>\n",
       "      <th>Polarity</th>\n",
       "      <th>Subjectivity</th>\n",
       "    </tr>\n",
       "  </thead>\n",
       "  <tbody>\n",
       "    <tr>\n",
       "      <th>1</th>\n",
       "      <td>RT @LioneIMessiFC: Messi is unreal https://t.co/eBPacbrAiz</td>\n",
       "      <td>0</td>\n",
       "      <td>0</td>\n",
       "    </tr>\n",
       "    <tr>\n",
       "      <th>2</th>\n",
       "      <td>RT @barcagalaxy: Messi scored vs every La Liga team ! https://t.co/ATnWbdoKYD</td>\n",
       "      <td>0</td>\n",
       "      <td>0</td>\n",
       "    </tr>\n",
       "    <tr>\n",
       "      <th>3</th>\n",
       "      <td>RT @messi10stats: Messi career stats:\\n671 Games\\n536 GOALS\\n270 ASSISTS\\n29 TROPHIES\\n41 HATTRICKS\\n5 Ballon d'Or\\n3 Golden Boot\\n2 UEFA Best play…</td>\n",
       "      <td>0.65</td>\n",
       "      <td>0.4</td>\n",
       "    </tr>\n",
       "    <tr>\n",
       "      <th>4</th>\n",
       "      <td>Messi saluted by Raul as Barcelona ace equals La Liga record of Real Madrid legend - https://t.co/1kle2Ft3a6 https://t.co/EWogcEu10F</td>\n",
       "      <td>0.2</td>\n",
       "      <td>0.3</td>\n",
       "    </tr>\n",
       "    <tr>\n",
       "      <th>5</th>\n",
       "      <td>RT @neymarj65513897: Messi during the Las Palmas game #fcblive #LaLiga https://t.co/4znENZmht1</td>\n",
       "      <td>-0.4</td>\n",
       "      <td>0.4</td>\n",
       "    </tr>\n",
       "  </tbody>\n",
       "</table>\n",
       "</div>"
      ],
      "text/plain": [
       "                                                                                                                                                  Tweet  \\\n",
       "1                                                                                            RT @LioneIMessiFC: Messi is unreal https://t.co/eBPacbrAiz   \n",
       "2                                                                         RT @barcagalaxy: Messi scored vs every La Liga team ! https://t.co/ATnWbdoKYD   \n",
       "3  RT @messi10stats: Messi career stats:\\n671 Games\\n536 GOALS\\n270 ASSISTS\\n29 TROPHIES\\n41 HATTRICKS\\n5 Ballon d'Or\\n3 Golden Boot\\n2 UEFA Best play…   \n",
       "4                  Messi saluted by Raul as Barcelona ace equals La Liga record of Real Madrid legend - https://t.co/1kle2Ft3a6 https://t.co/EWogcEu10F   \n",
       "5                                                        RT @neymarj65513897: Messi during the Las Palmas game #fcblive #LaLiga https://t.co/4znENZmht1   \n",
       "\n",
       "  Polarity Subjectivity  \n",
       "1        0            0  \n",
       "2        0            0  \n",
       "3     0.65          0.4  \n",
       "4      0.2          0.3  \n",
       "5     -0.4          0.4  "
      ]
     },
     "execution_count": 5,
     "metadata": {},
     "output_type": "execute_result"
    }
   ],
   "source": [
    "tweets = {}\n",
    "for idx, tweet in enumerate(public_tweets):\n",
    "    tweets[idx+1] = {\n",
    "        'Tweet': tweet.text, \n",
    "        'Polarity': TextBlob(tweet.text).sentiment[0],\n",
    "        'Subjectivity': TextBlob(tweet.text).sentiment[1]\n",
    "    }\n",
    "    \n",
    "df = pd.DataFrame(tweets).transpose()\n",
    "pd.set_option('max_colwidth',200)\n",
    "pd.set_option('display.max_rows', 20)\n",
    "df[['Tweet', 'Polarity', 'Subjectivity']].head()"
   ]
  },
  {
   "cell_type": "code",
   "execution_count": 26,
   "metadata": {
    "collapsed": false
   },
   "outputs": [
    {
     "name": "stdout",
     "output_type": "stream",
     "text": [
      "Maximum Polarity: 1.0\n",
      "RT @br_uk: What. A. Goal.\n",
      "Claudia Pina does her best Messi impression with sublime solo goal for #Barca ladies 🙌\n",
      "[🎥 @FCBfemeni]\n",
      "https://t.c…\n",
      "----------------------------------------------------------------------------------------------------\n",
      "Minimum Polarity: -0.4\n",
      "RT @neymarj65513897: Messi during the Las Palmas game #fcblive #LaLiga https://t.co/4znENZmht1\n"
     ]
    }
   ],
   "source": [
    "pol_max = np.argmax(df['Polarity'])\n",
    "pol_min = np.argmin(df['Polarity'])\n",
    "print('Maximum Polarity:', df['Polarity'][pol_max])\n",
    "print(df['Tweet'][pol_max])\n",
    "print('-'*100)\n",
    "print('Minimum Polarity:', df['Polarity'][pol_min])\n",
    "print(df['Tweet'][pol_min])"
   ]
  },
  {
   "cell_type": "code",
   "execution_count": 20,
   "metadata": {
    "collapsed": false
   },
   "outputs": [],
   "source": [
    "df.to_csv(to_search+'.csv', index=False)"
   ]
  },
  {
   "cell_type": "code",
   "execution_count": 22,
   "metadata": {
    "collapsed": false
   },
   "outputs": [
    {
     "data": {
      "text/html": [
       "<div>\n",
       "<table border=\"1\" class=\"dataframe\">\n",
       "  <thead>\n",
       "    <tr style=\"text-align: right;\">\n",
       "      <th></th>\n",
       "      <th>Polarity</th>\n",
       "      <th>Subjectivity</th>\n",
       "      <th>Tweet</th>\n",
       "    </tr>\n",
       "  </thead>\n",
       "  <tbody>\n",
       "    <tr>\n",
       "      <th>0</th>\n",
       "      <td>0.00</td>\n",
       "      <td>0.0</td>\n",
       "      <td>RT @LioneIMessiFC: Messi is unreal https://t.co/eBPacbrAiz</td>\n",
       "    </tr>\n",
       "    <tr>\n",
       "      <th>1</th>\n",
       "      <td>0.00</td>\n",
       "      <td>0.0</td>\n",
       "      <td>RT @barcagalaxy: Messi scored vs every La Liga team ! https://t.co/ATnWbdoKYD</td>\n",
       "    </tr>\n",
       "    <tr>\n",
       "      <th>2</th>\n",
       "      <td>0.65</td>\n",
       "      <td>0.4</td>\n",
       "      <td>RT @messi10stats: Messi career stats:\\n671 Games\\n536 GOALS\\n270 ASSISTS\\n29 TROPHIES\\n41 HATTRICKS\\n5 Ballon d'Or\\n3 Golden Boot\\n2 UEFA Best play…</td>\n",
       "    </tr>\n",
       "    <tr>\n",
       "      <th>3</th>\n",
       "      <td>0.20</td>\n",
       "      <td>0.3</td>\n",
       "      <td>Messi saluted by Raul as Barcelona ace equals La Liga record of Real Madrid legend - https://t.co/1kle2Ft3a6 https://t.co/EWogcEu10F</td>\n",
       "    </tr>\n",
       "    <tr>\n",
       "      <th>4</th>\n",
       "      <td>-0.40</td>\n",
       "      <td>0.4</td>\n",
       "      <td>RT @neymarj65513897: Messi during the Las Palmas game #fcblive #LaLiga https://t.co/4znENZmht1</td>\n",
       "    </tr>\n",
       "  </tbody>\n",
       "</table>\n",
       "</div>"
      ],
      "text/plain": [
       "   Polarity  Subjectivity  \\\n",
       "0      0.00           0.0   \n",
       "1      0.00           0.0   \n",
       "2      0.65           0.4   \n",
       "3      0.20           0.3   \n",
       "4     -0.40           0.4   \n",
       "\n",
       "                                                                                                                                                  Tweet  \n",
       "0                                                                                            RT @LioneIMessiFC: Messi is unreal https://t.co/eBPacbrAiz  \n",
       "1                                                                         RT @barcagalaxy: Messi scored vs every La Liga team ! https://t.co/ATnWbdoKYD  \n",
       "2  RT @messi10stats: Messi career stats:\\n671 Games\\n536 GOALS\\n270 ASSISTS\\n29 TROPHIES\\n41 HATTRICKS\\n5 Ballon d'Or\\n3 Golden Boot\\n2 UEFA Best play…  \n",
       "3                  Messi saluted by Raul as Barcelona ace equals La Liga record of Real Madrid legend - https://t.co/1kle2Ft3a6 https://t.co/EWogcEu10F  \n",
       "4                                                        RT @neymarj65513897: Messi during the Las Palmas game #fcblive #LaLiga https://t.co/4znENZmht1  "
      ]
     },
     "execution_count": 22,
     "metadata": {},
     "output_type": "execute_result"
    }
   ],
   "source": [
    "df2 = pd.read_csv('Messi.csv')\n",
    "df2.head()"
   ]
  }
 ],
 "metadata": {
  "kernelspec": {
   "display_name": "Python 3",
   "language": "python",
   "name": "python3"
  },
  "language_info": {
   "codemirror_mode": {
    "name": "ipython",
    "version": 3
   },
   "file_extension": ".py",
   "mimetype": "text/x-python",
   "name": "python",
   "nbconvert_exporter": "python",
   "pygments_lexer": "ipython3",
   "version": "3.5.2"
  }
 },
 "nbformat": 4,
 "nbformat_minor": 2
}
