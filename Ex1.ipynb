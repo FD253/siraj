{
 "cells": [
  {
   "cell_type": "code",
   "execution_count": 1,
   "metadata": {
    "collapsed": false
   },
   "outputs": [],
   "source": [
    "from sklearn import tree\n",
    "from sklearn.linear_model import LogisticRegression\n",
    "from sklearn.svm import SVC\n",
    "from sklearn.neural_network import MLPClassifier"
   ]
  },
  {
   "cell_type": "code",
   "execution_count": 2,
   "metadata": {
    "collapsed": true
   },
   "outputs": [],
   "source": [
    "tree = tree.DecisionTreeClassifier()\n",
    "lr = LogisticRegression()\n",
    "svc = SVC()\n",
    "mlpc = MLPClassifier()"
   ]
  },
  {
   "cell_type": "code",
   "execution_count": 3,
   "metadata": {
    "collapsed": true
   },
   "outputs": [],
   "source": [
    "X = [[181, 80, 44], [177, 70, 43], [160, 60, 38], [154, 54, 37], [166, 65, 40],\n",
    "     [190, 90, 47], [175, 64, 39],\n",
    "     [177, 70, 40], [159, 55, 37], [171, 75, 42], [181, 85, 43]]\n",
    "\n",
    "y = ['male', 'male', 'female', 'female', 'male', 'male', 'female', 'female',\n",
    "     'female', 'male', 'male']"
   ]
  },
  {
   "cell_type": "code",
   "execution_count": 4,
   "metadata": {
    "collapsed": false
   },
   "outputs": [
    {
     "data": {
      "text/plain": [
       "'male'"
      ]
     },
     "execution_count": 4,
     "metadata": {},
     "output_type": "execute_result"
    }
   ],
   "source": [
    "tree = tree.fit(X, y)\n",
    "tree_p = tree.predict([[190, 70, 43]])\n",
    "tree_p[0]"
   ]
  },
  {
   "cell_type": "code",
   "execution_count": 5,
   "metadata": {
    "collapsed": false
   },
   "outputs": [
    {
     "data": {
      "text/plain": [
       "'female'"
      ]
     },
     "execution_count": 5,
     "metadata": {},
     "output_type": "execute_result"
    }
   ],
   "source": [
    "lr = lr.fit(X, y)\n",
    "lr_p = lr.predict([[190, 70, 43]])\n",
    "lr_p[0]"
   ]
  },
  {
   "cell_type": "code",
   "execution_count": 6,
   "metadata": {
    "collapsed": false
   },
   "outputs": [
    {
     "data": {
      "text/plain": [
       "'male'"
      ]
     },
     "execution_count": 6,
     "metadata": {},
     "output_type": "execute_result"
    }
   ],
   "source": [
    "svc = svc.fit(X, y)\n",
    "svc_p = svc.predict([[190, 70, 43]])\n",
    "svc_p[0]"
   ]
  },
  {
   "cell_type": "code",
   "execution_count": 7,
   "metadata": {
    "collapsed": false
   },
   "outputs": [
    {
     "data": {
      "text/plain": [
       "'male'"
      ]
     },
     "execution_count": 7,
     "metadata": {},
     "output_type": "execute_result"
    }
   ],
   "source": [
    "mlpc = mlpc.fit(X, y)\n",
    "mlpc_p = mlpc.predict([[190, 70, 43]])\n",
    "mlpc_p[0]"
   ]
  },
  {
   "cell_type": "code",
   "execution_count": 8,
   "metadata": {
    "collapsed": false
   },
   "outputs": [],
   "source": [
    "import pandas as pd\n",
    "data = pd.read_excel('dataEx1.xlsx')"
   ]
  },
  {
   "cell_type": "code",
   "execution_count": 9,
   "metadata": {
    "collapsed": false
   },
   "outputs": [],
   "source": [
    "data = data[['height', 'weight', 'shoe_size', 'sex_classification']]\n",
    "data = data.dropna()\n",
    "ukX = data[['height', 'weight', 'shoe_size']]\n",
    "uky = data['sex_classification']\n",
    "uky = uky.replace(1,'male')\n",
    "uky = uky.replace(2,'female')"
   ]
  },
  {
   "cell_type": "code",
   "execution_count": 10,
   "metadata": {
    "collapsed": false
   },
   "outputs": [],
   "source": [
    "import numpy as np\n",
    "ukX = np.asarray(ukX)\n",
    "uky = np.asarray(uky)"
   ]
  },
  {
   "cell_type": "code",
   "execution_count": 11,
   "metadata": {
    "collapsed": false
   },
   "outputs": [
    {
     "name": "stderr",
     "output_type": "stream",
     "text": [
      "/home/fd/Dev/siraj/dschallenges/.env/lib/python3.5/site-packages/sklearn/cross_validation.py:44: DeprecationWarning: This module was deprecated in version 0.18 in favor of the model_selection module into which all the refactored classes and functions are moved. Also note that the interface of the new CV iterators are different from that of this module. This module will be removed in 0.20.\n",
      "  \"This module will be removed in 0.20.\", DeprecationWarning)\n"
     ]
    }
   ],
   "source": [
    "from sklearn.cross_validation import train_test_split\n",
    "X_train, X_test, y_train, y_test = train_test_split(ukX, uky)"
   ]
  },
  {
   "cell_type": "code",
   "execution_count": 12,
   "metadata": {
    "collapsed": false
   },
   "outputs": [],
   "source": [
    "from sklearn.metrics import accuracy_score"
   ]
  },
  {
   "cell_type": "code",
   "execution_count": 13,
   "metadata": {
    "collapsed": false
   },
   "outputs": [
    {
     "data": {
      "text/plain": [
       "0.8571428571428571"
      ]
     },
     "execution_count": 13,
     "metadata": {},
     "output_type": "execute_result"
    }
   ],
   "source": [
    "tree = tree.fit(X_train, y_train)\n",
    "tree_p = tree.predict(X_test)\n",
    "accuracy_score(tree_p, y_test)"
   ]
  },
  {
   "cell_type": "code",
   "execution_count": 14,
   "metadata": {
    "collapsed": false
   },
   "outputs": [
    {
     "data": {
      "text/plain": [
       "0.9285714285714286"
      ]
     },
     "execution_count": 14,
     "metadata": {},
     "output_type": "execute_result"
    }
   ],
   "source": [
    "lr = lr.fit(X_train, y_train)\n",
    "lr_p = lr.predict(X_test)\n",
    "accuracy_score(lr_p, y_test)"
   ]
  },
  {
   "cell_type": "code",
   "execution_count": 15,
   "metadata": {
    "collapsed": false
   },
   "outputs": [
    {
     "data": {
      "text/plain": [
       "0.9285714285714286"
      ]
     },
     "execution_count": 15,
     "metadata": {},
     "output_type": "execute_result"
    }
   ],
   "source": [
    "l_svc = SVC(C=0.35, gamma=0.01, kernel='linear')\n",
    "l_svc = l_svc.fit(X_train, y_train)\n",
    "l_svc_p = l_svc.predict(X_test)\n",
    "accuracy_score(l_svc_p, y_test)"
   ]
  },
  {
   "cell_type": "code",
   "execution_count": 16,
   "metadata": {
    "collapsed": false
   },
   "outputs": [
    {
     "data": {
      "text/plain": [
       "0.8214285714285714"
      ]
     },
     "execution_count": 16,
     "metadata": {},
     "output_type": "execute_result"
    }
   ],
   "source": [
    "rbf_svc = SVC(C=0.35, gamma=0.01, kernel='rbf')\n",
    "rbf_svc = rbf_svc.fit(X_train, y_train)\n",
    "rbf_svc_p = rbf_svc.predict(X_test)\n",
    "accuracy_score(rbf_svc_p, y_test)"
   ]
  },
  {
   "cell_type": "code",
   "execution_count": 17,
   "metadata": {
    "collapsed": false
   },
   "outputs": [],
   "source": [
    "from matplotlib import pyplot as plt\n",
    "%matplotlib inline"
   ]
  },
  {
   "cell_type": "code",
   "execution_count": 23,
   "metadata": {
    "collapsed": false
   },
   "outputs": [
    {
     "data": {
      "text/plain": [
       "0.4642857142857143"
      ]
     },
     "execution_count": 23,
     "metadata": {},
     "output_type": "execute_result"
    }
   ],
   "source": [
    "mlpc = MLPClassifier(hidden_layer_sizes=(4,), batch_size=2, max_iter=1000, random_state=3)\n",
    "mlpc = mlpc.fit(X_train, y_train)\n",
    "mlpc_p = mlpc.predict(X_test)\n",
    "accuracy_score(mlpc_p, y_test)"
   ]
  },
  {
   "cell_type": "code",
   "execution_count": 19,
   "metadata": {
    "collapsed": false
   },
   "outputs": [
    {
     "data": {
      "text/plain": [
       "0.8571428571428571"
      ]
     },
     "execution_count": 19,
     "metadata": {},
     "output_type": "execute_result"
    }
   ],
   "source": [
    "from sklearn.neighbors import KNeighborsClassifier\n",
    "knc = KNeighborsClassifier(n_neighbors=3)\n",
    "knc = knc.fit(X_train, y_train)\n",
    "knc_p = knc.predict(X_test)\n",
    "accuracy_score(knc_p, y_test)"
   ]
  },
  {
   "cell_type": "code",
   "execution_count": 20,
   "metadata": {
    "collapsed": false,
    "scrolled": true
   },
   "outputs": [
    {
     "data": {
      "image/png": "[encoded data removed]",
      "text/plain": [
       "<matplotlib.figure.Figure at 0x7ff672c8a358>"
      ]
     },
     "metadata": {},
     "output_type": "display_data"
    }
   ],
   "source": [
    "plt.plot(mlpc.loss_curve_)\n",
    "plt.xlabel('Iteration')\n",
    "plt.ylabel('Loss')\n",
    "plt.show()"
   ]
  },
  {
   "cell_type": "code",
   "execution_count": 21,
   "metadata": {
    "collapsed": false,
    "scrolled": true
   },
   "outputs": [
    {
     "name": "stdout",
     "output_type": "stream",
     "text": [
      "Accuracy: 0.89 (+/- 0.09) [Logistic Regression]\n",
      "Accuracy: 0.89 (+/- 0.11) [Linear Support Vector Classifier]\n",
      "Accuracy: 0.84 (+/- 0.13) [RBF Support Vector Classifier]\n",
      "Accuracy: 0.88 (+/- 0.10) [Decision Tree Classifier]\n",
      "Accuracy: 0.86 (+/- 0.16) [Multi Layer Perceptron Classifier]\n",
      "Accuracy: 0.89 (+/- 0.11) [KNeighbors Classifier]\n"
     ]
    },
    {
     "data": {
      "text/plain": [
       "0.8928571428571429"
      ]
     },
     "execution_count": 21,
     "metadata": {},
     "output_type": "execute_result"
    }
   ],
   "source": [
    "from sklearn.ensemble import VotingClassifier\n",
    "from sklearn.model_selection import cross_val_score\n",
    "\n",
    "vc = VotingClassifier(estimators=[('lr', lr), ('svc (linear)', l_svc), ('svc (rbf)', rbf_svc), ('tree', tree), ('MLP', mlpc), ('KNN', knc)],\n",
    "                      voting='hard', n_jobs=-1)\n",
    "all_clf = {}\n",
    "for clf, label in zip(\n",
    "    [lr, l_svc, rbf_svc, tree, mlpc, knc],\n",
    "    ['Logistic Regression', 'Linear Support Vector Classifier',\n",
    "     'RBF Support Vector Classifier', 'Decision Tree Classifier', \n",
    "     'Multi Layer Perceptron Classifier', 'KNeighbors Classifier']\n",
    "):\n",
    "    scores = cross_val_score(clf, ukX, uky, cv=10, scoring='accuracy')\n",
    "    all_clf[label] = scores.mean()\n",
    "    print(\"Accuracy: %0.2f (+/- %0.2f) [%s]\" % (scores.mean(), scores.std(), label))\n",
    "\n",
    "vc = vc.fit(X_train, y_train)\n",
    "vc_p = vc.predict(X_test)\n",
    "accuracy_score(vc_p, y_test)"
   ]
  },
  {
   "cell_type": "code",
   "execution_count": 22,
   "metadata": {
    "collapsed": false
   },
   "outputs": [
    {
     "name": "stdout",
     "output_type": "stream",
     "text": [
      "Winner:\n",
      "KNeighbors Classifier\n",
      "0.891666666667 accuracy\n"
     ]
    }
   ],
   "source": [
    "print('Winner:')\n",
    "print(max(all_clf, key=all_clf.get))\n",
    "print(str(all_clf[max(all_clf, key=all_clf.get)]), 'accuracy')"
   ]
  }
 ],
 "metadata": {
  "kernelspec": {
   "display_name": "Python 3",
   "language": "python",
   "name": "python3"
  },
  "language_info": {
   "codemirror_mode": {
    "name": "ipython",
    "version": 3
   },
   "file_extension": ".py",
   "mimetype": "text/x-python",
   "name": "python",
   "nbconvert_exporter": "python",
   "pygments_lexer": "ipython3",
   "version": "3.5.2"
  }
 },
 "nbformat": 4,
 "nbformat_minor": 2
}
