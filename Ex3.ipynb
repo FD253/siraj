{
 "cells": [
  {
   "cell_type": "code",
   "execution_count": 1,
   "metadata": {
    "collapsed": false
   },
   "outputs": [],
   "source": [
    "import numpy as np\n",
    "import pandas as pd\n",
    "from lightfm import LightFM\n",
    "from scipy.sparse import coo_matrix"
   ]
  },
  {
   "cell_type": "code",
   "execution_count": 60,
   "metadata": {
    "collapsed": false,
    "scrolled": true
   },
   "outputs": [],
   "source": [
    "# Preprocessing\n",
    "\n",
    "users = {}   # k (given id). v (len of itself)\n",
    "artists = {} # k (given id). v (tuple: name, len of itself)\n",
    "\n",
    "data, i, j = [], [], []  # coo_matrix parameters\n",
    "jnames = []\n",
    "\n",
    "with open('/media/fd/HDD/lastfm-dataset-360K/usersha1-artmbid-artname-plays.tsv') as f:\n",
    "    \n",
    "    for idx, line in enumerate(f):\n",
    "        user_id, artist_id, artist_name, total_plays = line.split('\\t')  # ASCII Horizontal Tab (TAB)\n",
    "        total_plays = int(total_plays)\n",
    "        if user_id not in users:\n",
    "            users[user_id] = len(users)\n",
    "        if artist_id not in artists:\n",
    "            artists[artist_id] = artist_name, len(artists)\n",
    "        if total_plays > 500:\n",
    "            data.append(total_plays)\n",
    "            i.append(users[user_id])\n",
    "            j.append(artists[artist_id][1])\n",
    "            jnames.append(artists[artist_id][0])\n",
    "            \n",
    "coo_m = coo_matrix((data, (i, j)), [len(users), len(artists)], dtype='int32')"
   ]
  },
  {
   "cell_type": "code",
   "execution_count": 61,
   "metadata": {
    "collapsed": false
   },
   "outputs": [],
   "source": [
    "item_labels = np.asarray(jnames)"
   ]
  },
  {
   "cell_type": "code",
   "execution_count": 75,
   "metadata": {
    "collapsed": false
   },
   "outputs": [
    {
     "data": {
      "text/plain": [
       "<lightfm.lightfm.LightFM at 0x7ff44b3e1b70>"
      ]
     },
     "execution_count": 75,
     "metadata": {},
     "output_type": "execute_result"
    }
   ],
   "source": [
    "# Models\n",
    "\n",
    "model = LightFM(loss='warp')\n",
    "model.fit(coo_m, epochs=50, num_threads=8)\n",
    "\n",
    "model2 = LightFM(loss='logistic')\n",
    "model2.fit(coo_m, epochs=50, num_threads=8)\n",
    "\n",
    "model3 = LightFM(loss='warp-kos')\n",
    "model3.fit(coo_m, epochs=50, num_threads=8)\n",
    "\n",
    "model4 = LightFM(loss='bpr')\n",
    "model4.fit(coo_m, epochs=50, num_threads=8)"
   ]
  },
  {
   "cell_type": "code",
   "execution_count": 82,
   "metadata": {
    "collapsed": true
   },
   "outputs": [],
   "source": [
    "def sample_recomendation(model, item_labels, matrix, user_ids):\n",
    "    #generate recommendations for each user\n",
    "    for user_id in user_ids:\n",
    "        \n",
    "        #artists already listened\n",
    "        known_positives = item_labels[matrix.tocsr()[user_id].indices]\n",
    "        \n",
    "        #predicted new likes\n",
    "        scores = model.predict(user_id, np.arange(matrix.shape[1]))\n",
    "        \n",
    "        #rank scores (descending)\n",
    "        top_items = item_labels[np.argsort(-scores)]\n",
    "        print(\"User %s\" % user_id)\n",
    "        print(\"Known positives:\")\n",
    "        \n",
    "        for x in known_positives[:3]:\n",
    "            print(\"          %s\" % x)\n",
    "            \n",
    "        print(\"     Recommended:\")\n",
    "        \n",
    "        for x in top_items[:3]:\n",
    "            if x not in known_positives:\n",
    "            print(\"          %s\" % x)"
   ]
  },
  {
   "cell_type": "code",
   "execution_count": 103,
   "metadata": {
    "collapsed": true
   },
   "outputs": [],
   "source": [
    "ids = [2]"
   ]
  },
  {
   "cell_type": "code",
   "execution_count": 104,
   "metadata": {
    "collapsed": false,
    "scrolled": true
   },
   "outputs": [
    {
     "name": "stdout",
     "output_type": "stream",
     "text": [
      "User 2\n",
      "Known positives:\n",
      "          goo goo dolls\n",
      "          lostprophets\n",
      "     Recommended:\n",
      "          nine inch nails\n",
      "          amy winehouse\n",
      "          lapko\n"
     ]
    }
   ],
   "source": [
    "sample_recomendation(model, item_labels, coo_m, ids)"
   ]
  },
  {
   "cell_type": "code",
   "execution_count": 105,
   "metadata": {
    "collapsed": false,
    "scrolled": true
   },
   "outputs": [
    {
     "name": "stdout",
     "output_type": "stream",
     "text": [
      "User 2\n",
      "Known positives:\n",
      "          goo goo dolls\n",
      "          lostprophets\n",
      "     Recommended:\n",
      "          lapko\n",
      "          happy mondays\n",
      "          amy winehouse\n"
     ]
    }
   ],
   "source": [
    "sample_recomendation(model2, item_labels, coo_m, ids)"
   ]
  },
  {
   "cell_type": "code",
   "execution_count": 106,
   "metadata": {
    "collapsed": false
   },
   "outputs": [
    {
     "name": "stdout",
     "output_type": "stream",
     "text": [
      "User 2\n",
      "Known positives:\n",
      "          goo goo dolls\n",
      "          lostprophets\n",
      "     Recommended:\n",
      "          amy winehouse\n",
      "          rebellion\n"
     ]
    }
   ],
   "source": [
    "sample_recomendation(model3, item_labels, coo_m, ids)"
   ]
  },
  {
   "cell_type": "code",
   "execution_count": 107,
   "metadata": {
    "collapsed": false
   },
   "outputs": [
    {
     "name": "stdout",
     "output_type": "stream",
     "text": [
      "User 2\n",
      "Known positives:\n",
      "          goo goo dolls\n",
      "          lostprophets\n",
      "     Recommended:\n",
      "          devin townsend\n",
      "          acid house kings\n"
     ]
    }
   ],
   "source": [
    "sample_recomendation(model4, item_labels, coo_m, ids)"
   ]
  }
 ],
 "metadata": {
  "kernelspec": {
   "display_name": "Python 3",
   "language": "python",
   "name": "python3"
  },
  "language_info": {
   "codemirror_mode": {
    "name": "ipython",
    "version": 3
   },
   "file_extension": ".py",
   "mimetype": "text/x-python",
   "name": "python",
   "nbconvert_exporter": "python",
   "pygments_lexer": "ipython3",
   "version": "3.5.2"
  }
 },
 "nbformat": 4,
 "nbformat_minor": 2
}
